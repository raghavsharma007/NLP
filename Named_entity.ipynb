{
 "cells": [
  {
   "cell_type": "code",
   "execution_count": 1,
   "metadata": {},
   "outputs": [],
   "source": [
    "import nltk\n",
    "from nltk.tokenize import sent_tokenize, word_tokenize"
   ]
  },
  {
   "cell_type": "code",
   "execution_count": 2,
   "metadata": {},
   "outputs": [],
   "source": [
    "text = '\"Hello\" is a song by British singer-songwriter Adele, released on 23 October 2015 by XL Recordings as the lead single from her third studio album, 25 (2015).'"
   ]
  },
  {
   "cell_type": "code",
   "execution_count": 3,
   "metadata": {},
   "outputs": [
    {
     "name": "stdout",
     "output_type": "stream",
     "text": [
      "['\"Hello\" is a song by British singer-songwriter Adele, released on 23 October 2015 by XL Recordings as the lead single from her third studio album, 25 (2015).']\n"
     ]
    }
   ],
   "source": [
    "sentences = sent_tokenize(text)\n",
    "print(sentences)"
   ]
  },
  {
   "cell_type": "code",
   "execution_count": 4,
   "metadata": {},
   "outputs": [
    {
     "name": "stdout",
     "output_type": "stream",
     "text": [
      "(S\n",
      "  ``/``\n",
      "  Hello/NNP\n",
      "  ''/''\n",
      "  is/VBZ\n",
      "  a/DT\n",
      "  song/NN\n",
      "  by/IN\n",
      "  (NE British/JJ)\n",
      "  singer-songwriter/NN\n",
      "  (NE Adele/NNP)\n",
      "  ,/,\n",
      "  released/VBN\n",
      "  on/IN\n",
      "  23/CD\n",
      "  October/NNP\n",
      "  2015/CD\n",
      "  by/IN\n",
      "  (NE XL/NNP Recordings/NNP)\n",
      "  as/IN\n",
      "  the/DT\n",
      "  lead/NN\n",
      "  single/JJ\n",
      "  from/IN\n",
      "  her/PRP$\n",
      "  third/JJ\n",
      "  studio/NN\n",
      "  album/NN\n",
      "  ,/,\n",
      "  25/CD\n",
      "  (/(\n",
      "  2015/CD\n",
      "  )/)\n",
      "  ./.)\n"
     ]
    }
   ],
   "source": [
    "nltk.download('maxent_ne_chunker')\n",
    "nltk.download('words')\n",
    "for i in sentences:\n",
    "    words = word_tokenize(i)\n",
    "    tagged = nltk.pos_tag(words)\n",
    "    ne = nltk.ne_chunk(tagged, binary=True)\n",
    "    print(ne)"
   ]
  },
  {
   "cell_type": "code",
   "execution_count": null,
   "metadata": {},
   "outputs": [],
   "source": []
  }
 ],
 "metadata": {
  "kernelspec": {
   "display_name": "Python 3",
   "language": "python",
   "name": "python3"
  },
  "language_info": {
   "codemirror_mode": {
    "name": "ipython",
    "version": 3
   },
   "file_extension": ".py",
   "mimetype": "text/x-python",
   "name": "python",
   "nbconvert_exporter": "python",
   "pygments_lexer": "ipython3",
   "version": "3.7.2"
  }
 },
 "nbformat": 4,
 "nbformat_minor": 2
}
